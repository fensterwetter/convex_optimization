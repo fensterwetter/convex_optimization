{
 "cells": [
  {
   "cell_type": "code",
   "execution_count": 1,
   "metadata": {},
   "outputs": [],
   "source": [
    "import cvxpy as cvx\n",
    "import numpy as np\n",
    "import pandas as pd\n",
    "import matplotlib.pylab as plt"
   ]
  },
  {
   "cell_type": "markdown",
   "metadata": {},
   "source": [
    "## Question 1: Numerical perturbation analysis example "
   ]
  },
  {
   "cell_type": "markdown",
   "metadata": {},
   "source": [
    "Given is the QP\n",
    "\n",
    "\\begin{align}\n",
    "\\mathbf{maximize}&& x_1^2 + 2 x_2^2 -x_1 x_2 - x_1\\\\\n",
    "\\mathbf{subject\\, to}&& x_1 + 2 x_2 \\le u_1 \\\\\n",
    "&& x_1 - 4 x_2 \\le u_2\\\\\n",
    "&& x_1 + x_2 \\ge -5\n",
    "\\end{align}\n",
    "\n",
    "with parameters $x_1, x_2$ and parameters $u_1, u_2$."
   ]
  },
  {
   "cell_type": "markdown",
   "metadata": {},
   "source": [
    "(a) Solve problem with $u_1 = -2$ and $u_2 = -3$ to find optimal primal variables $x_1^*$ and $x_2^*$\n",
    "and optimal dual variables $\\lambda_1^*$, $\\lambda_2^*$ and $\\lambda_3^*$. Verify that KKT conditions hold."
   ]
  },
  {
   "cell_type": "code",
   "execution_count": 2,
   "metadata": {},
   "outputs": [],
   "source": [
    "x = cvx.Variable(2)"
   ]
  },
  {
   "cell_type": "code",
   "execution_count": 3,
   "metadata": {},
   "outputs": [],
   "source": [
    "# Use a matrix A to express objective as quadratic form\n",
    "A = np.array(\n",
    "    [\n",
    "        [1.0, -0.5],\n",
    "        [-0.5, 2.0]\n",
    "    ]\n",
    ")"
   ]
  },
  {
   "cell_type": "code",
   "execution_count": 4,
   "metadata": {},
   "outputs": [],
   "source": [
    "obj = cvx.Minimize(cvx.quad_form(x, A) - x[0])"
   ]
  },
  {
   "cell_type": "code",
   "execution_count": 5,
   "metadata": {},
   "outputs": [
    {
     "data": {
      "text/plain": [
       "array([0.79289322, 2.20710678])"
      ]
     },
     "execution_count": 5,
     "metadata": {},
     "output_type": "execute_result"
    }
   ],
   "source": [
    "# Ensure matrix is psd, i.e. has only nonnegative eigenvalues (and therefore that the problem is convex)\n",
    "np.linalg.eig(A)[0]"
   ]
  },
  {
   "cell_type": "code",
   "execution_count": 6,
   "metadata": {},
   "outputs": [],
   "source": [
    "u1 = cvx.Constant(-2.0)\n",
    "u2 = cvx.Constant(-3.0)\n",
    "u3 = cvx.Constant(-5.0)"
   ]
  },
  {
   "cell_type": "code",
   "execution_count": 7,
   "metadata": {},
   "outputs": [],
   "source": [
    "constraints = [\n",
    "    x[0] + 2.0 * x[1] <= u1,\n",
    "    x[0] - 4.0 * x[1] <= u2,\n",
    "    # slight reformulate to <=, not really needed if constraints like here are not given in matrix form\n",
    "    -x[0] + -x[1] <= -u3,\n",
    "]"
   ]
  },
  {
   "cell_type": "code",
   "execution_count": 8,
   "metadata": {
    "scrolled": true
   },
   "outputs": [
    {
     "name": "stdout",
     "output_type": "stream",
     "text": [
      "status: optimal\n",
      "optimal value 8.222222222222223\n",
      "optimal var [-2.33333333  0.16666667]\n",
      "optimal (x1 + 2* x2 <= u1) dual variable: 3.3888888888888893\n",
      "optimal (x1 - 4* x2 <= u2) dual variable: 2.4444444444444446\n",
      "optimal (x1 + x2 >= -5) dual variable: 0.0\n"
     ]
    }
   ],
   "source": [
    "# Form and solve problem.\n",
    "prob = cvx.Problem(obj, constraints)\n",
    "prob.solve()  # Returns the optimal value.\n",
    "p_star_00 = prob.value\n",
    "lambda1 = constraints[0].dual_value\n",
    "lambda2 = constraints[1].dual_value\n",
    "lambda3 = constraints[2].dual_value\n",
    "print(\"status:\", prob.status)\n",
    "print(\"optimal value\", prob.value)\n",
    "print(\"optimal var\", x.value)\n",
    "print(f\"optimal (x1 + 2* x2 <= u1) dual variable: {lambda1}\")\n",
    "print(f\"optimal (x1 - 4* x2 <= u2) dual variable: {lambda2}\")\n",
    "print(f\"optimal (x1 + x2 >= -5) dual variable: {lambda3}\")"
   ]
  },
  {
   "cell_type": "markdown",
   "metadata": {},
   "source": [
    "Confirm KKT conditions"
   ]
  },
  {
   "cell_type": "code",
   "execution_count": 9,
   "metadata": {},
   "outputs": [
    {
     "data": {
      "text/plain": [
       "True"
      ]
     },
     "execution_count": 9,
     "metadata": {},
     "output_type": "execute_result"
    }
   ],
   "source": [
    "# 1. primal constraints are fulfilled\n",
    "x.value[0] + 2.0 * x.value[1]  <= -2"
   ]
  },
  {
   "cell_type": "code",
   "execution_count": 10,
   "metadata": {},
   "outputs": [
    {
     "data": {
      "text/plain": [
       "True"
      ]
     },
     "execution_count": 10,
     "metadata": {},
     "output_type": "execute_result"
    }
   ],
   "source": [
    "x.value[0] - 4.0 * x.value[1]  <= -3"
   ]
  },
  {
   "cell_type": "code",
   "execution_count": 11,
   "metadata": {},
   "outputs": [
    {
     "data": {
      "text/plain": [
       "True"
      ]
     },
     "execution_count": 11,
     "metadata": {},
     "output_type": "execute_result"
    }
   ],
   "source": [
    "x.value[0] + x.value[1] >= -5"
   ]
  },
  {
   "cell_type": "code",
   "execution_count": 12,
   "metadata": {},
   "outputs": [
    {
     "name": "stdout",
     "output_type": "stream",
     "text": [
      "True\n",
      "True\n",
      "True\n"
     ]
    }
   ],
   "source": [
    "# 2. dual constraints (lambda_i >= 0)\n",
    "for i in range(3):\n",
    "    print(constraints[i].dual_value >= 0)"
   ]
  },
  {
   "cell_type": "code",
   "execution_count": 13,
   "metadata": {},
   "outputs": [
    {
     "data": {
      "text/plain": [
       "True"
      ]
     },
     "execution_count": 13,
     "metadata": {},
     "output_type": "execute_result"
    }
   ],
   "source": [
    "# 3. complementary slackness\n",
    "constraints[0].dual_value * (x.value[0] + 2.0 * x.value[1] + 2) == 0"
   ]
  },
  {
   "cell_type": "code",
   "execution_count": 14,
   "metadata": {},
   "outputs": [
    {
     "data": {
      "text/plain": [
       "True"
      ]
     },
     "execution_count": 14,
     "metadata": {},
     "output_type": "execute_result"
    }
   ],
   "source": [
    "constraints[1].dual_value * (x.value[0] - 4.0 * x.value[1] + 3) == 0"
   ]
  },
  {
   "cell_type": "code",
   "execution_count": 15,
   "metadata": {},
   "outputs": [
    {
     "data": {
      "text/plain": [
       "True"
      ]
     },
     "execution_count": 15,
     "metadata": {},
     "output_type": "execute_result"
    }
   ],
   "source": [
    "constraints[2].dual_value * (x.value[0] + x.value[1] + 5) == 0"
   ]
  },
  {
   "cell_type": "code",
   "execution_count": 16,
   "metadata": {},
   "outputs": [
    {
     "data": {
      "text/plain": [
       "True"
      ]
     },
     "execution_count": 16,
     "metadata": {},
     "output_type": "execute_result"
    }
   ],
   "source": [
    "# 4. gradient of Lagrangian w.r.t. x vanishes\n",
    "2*x.value[0] - x.value[1] - 1 + constraints[0].dual_value + constraints[1].dual_value + constraints[2].dual_value == 0"
   ]
  },
  {
   "cell_type": "code",
   "execution_count": 17,
   "metadata": {},
   "outputs": [
    {
     "data": {
      "text/plain": [
       "True"
      ]
     },
     "execution_count": 17,
     "metadata": {},
     "output_type": "execute_result"
    }
   ],
   "source": [
    "4*x.value[1] - x.value[0] + constraints[0].dual_value * 2 + constraints[1].dual_value * (-4.0) == 0"
   ]
  },
  {
   "cell_type": "markdown",
   "metadata": {},
   "source": [
    "(b) Compute perturbed versions with:\n",
    "\n",
    "$\n",
    "u_1 = −2 \\delta_1\\\\\n",
    "u_2 =−3 +\\delta_2\n",
    "$\n",
    "\n",
    "where $\\delta_1$ and $\\delta_2$ each take values from $\\{−0.1, 0, 0.1\\}$.\n",
    "\n",
    "For each combination of $\\delta_1$ and $\\delta_2$, make a prediction $p^*_\\mathrm{pred}$ of the optimal value of the perturbed QP, and compare it to $p^*_\\mathrm{exact}$.\n",
    "\n",
    "Thereby the prediction is based on the dual values and given by:\n",
    "\n",
    "\\begin{align}\n",
    "p^*_\\mathrm{pred} = p^* − \\lambda^*_1 \\delta_1 − \\lambda^*_2 \\delta_2\n",
    "\\end{align}"
   ]
  },
  {
   "cell_type": "code",
   "execution_count": 18,
   "metadata": {},
   "outputs": [],
   "source": [
    "index_list = []\n",
    "delta1_list = []\n",
    "delta2_list = []\n",
    "p_star_predict_list = []\n",
    "p_star_exact_list = []\n",
    "difference_list = []\n",
    "index = 0\n",
    "for delta1 in [0.0, -0.1, 0.1]:\n",
    "    for delta2 in [0.0, -0.1, 0.1]:\n",
    "        index+=1\n",
    "        constraints = [\n",
    "            x[0] + 2.0 * x[1] <= u1 + delta1,\n",
    "            x[0] - 4.0 * x[1] <= u2 + delta2,\n",
    "            - x[0] + - x[1] <= -u3,\n",
    "        ]\n",
    "        prob = cvx.Problem(obj, constraints)\n",
    "        prob.solve()\n",
    "        p_star_exact = prob.value\n",
    "        p_star_predict = p_star_00 - lambda1 * delta1 - lambda2 * delta2\n",
    "        diff = p_star_exact-p_star_predict\n",
    "        assert diff >= 0.0  # make sure the exact solution is always larger than the predictions\n",
    "        \n",
    "        index_list.append(index)\n",
    "        delta1_list.append(delta1)\n",
    "        delta2_list.append(delta2)\n",
    "        p_star_predict_list.append(p_star_predict)\n",
    "        p_star_exact_list.append(p_star_exact)\n",
    "        difference_list.append(diff)"
   ]
  },
  {
   "cell_type": "code",
   "execution_count": 19,
   "metadata": {},
   "outputs": [
    {
     "data": {
      "text/html": [
       "<div>\n",
       "<style scoped>\n",
       "    .dataframe tbody tr th:only-of-type {\n",
       "        vertical-align: middle;\n",
       "    }\n",
       "\n",
       "    .dataframe tbody tr th {\n",
       "        vertical-align: top;\n",
       "    }\n",
       "\n",
       "    .dataframe thead th {\n",
       "        text-align: right;\n",
       "    }\n",
       "</style>\n",
       "<table border=\"1\" class=\"dataframe\">\n",
       "  <thead>\n",
       "    <tr style=\"text-align: right;\">\n",
       "      <th></th>\n",
       "      <th>#</th>\n",
       "      <th>delta_1</th>\n",
       "      <th>delta_2</th>\n",
       "      <th>p*_pred</th>\n",
       "      <th>p*_exact</th>\n",
       "      <th>Difference</th>\n",
       "    </tr>\n",
       "  </thead>\n",
       "  <tbody>\n",
       "    <tr>\n",
       "      <th>0</th>\n",
       "      <td>1</td>\n",
       "      <td>0.0</td>\n",
       "      <td>0.0</td>\n",
       "      <td>8.222222</td>\n",
       "      <td>8.222222</td>\n",
       "      <td>0.000000</td>\n",
       "    </tr>\n",
       "    <tr>\n",
       "      <th>1</th>\n",
       "      <td>2</td>\n",
       "      <td>0.0</td>\n",
       "      <td>-0.1</td>\n",
       "      <td>8.466667</td>\n",
       "      <td>8.468889</td>\n",
       "      <td>0.002222</td>\n",
       "    </tr>\n",
       "    <tr>\n",
       "      <th>2</th>\n",
       "      <td>3</td>\n",
       "      <td>0.0</td>\n",
       "      <td>0.1</td>\n",
       "      <td>7.977778</td>\n",
       "      <td>7.980000</td>\n",
       "      <td>0.002222</td>\n",
       "    </tr>\n",
       "    <tr>\n",
       "      <th>3</th>\n",
       "      <td>4</td>\n",
       "      <td>-0.1</td>\n",
       "      <td>0.0</td>\n",
       "      <td>8.561111</td>\n",
       "      <td>8.565000</td>\n",
       "      <td>0.003889</td>\n",
       "    </tr>\n",
       "    <tr>\n",
       "      <th>4</th>\n",
       "      <td>5</td>\n",
       "      <td>-0.1</td>\n",
       "      <td>-0.1</td>\n",
       "      <td>8.805556</td>\n",
       "      <td>8.815556</td>\n",
       "      <td>0.010000</td>\n",
       "    </tr>\n",
       "    <tr>\n",
       "      <th>5</th>\n",
       "      <td>6</td>\n",
       "      <td>-0.1</td>\n",
       "      <td>0.1</td>\n",
       "      <td>8.316667</td>\n",
       "      <td>8.318889</td>\n",
       "      <td>0.002222</td>\n",
       "    </tr>\n",
       "    <tr>\n",
       "      <th>6</th>\n",
       "      <td>7</td>\n",
       "      <td>0.1</td>\n",
       "      <td>0.0</td>\n",
       "      <td>7.883333</td>\n",
       "      <td>7.887222</td>\n",
       "      <td>0.003889</td>\n",
       "    </tr>\n",
       "    <tr>\n",
       "      <th>7</th>\n",
       "      <td>8</td>\n",
       "      <td>0.1</td>\n",
       "      <td>-0.1</td>\n",
       "      <td>8.127778</td>\n",
       "      <td>8.130000</td>\n",
       "      <td>0.002222</td>\n",
       "    </tr>\n",
       "    <tr>\n",
       "      <th>8</th>\n",
       "      <td>9</td>\n",
       "      <td>0.1</td>\n",
       "      <td>0.1</td>\n",
       "      <td>7.638889</td>\n",
       "      <td>7.648889</td>\n",
       "      <td>0.010000</td>\n",
       "    </tr>\n",
       "  </tbody>\n",
       "</table>\n",
       "</div>"
      ],
      "text/plain": [
       "   #  delta_1  delta_2   p*_pred  p*_exact  Difference\n",
       "0  1      0.0      0.0  8.222222  8.222222    0.000000\n",
       "1  2      0.0     -0.1  8.466667  8.468889    0.002222\n",
       "2  3      0.0      0.1  7.977778  7.980000    0.002222\n",
       "3  4     -0.1      0.0  8.561111  8.565000    0.003889\n",
       "4  5     -0.1     -0.1  8.805556  8.815556    0.010000\n",
       "5  6     -0.1      0.1  8.316667  8.318889    0.002222\n",
       "6  7      0.1      0.0  7.883333  7.887222    0.003889\n",
       "7  8      0.1     -0.1  8.127778  8.130000    0.002222\n",
       "8  9      0.1      0.1  7.638889  7.648889    0.010000"
      ]
     },
     "execution_count": 19,
     "metadata": {},
     "output_type": "execute_result"
    }
   ],
   "source": [
    "# Display as dataframe for better visualization\n",
    "pd.DataFrame(\n",
    "    {\n",
    "        \"#\": index_list,\n",
    "        \"delta_1\": delta1_list,\n",
    "        \"delta_2\": delta2_list,\n",
    "        \"p*_pred\": p_star_predict_list,\n",
    "        \"p*_exact\": p_star_exact_list,\n",
    "        \"Difference\": difference_list\n",
    "    }\n",
    ")"
   ]
  },
  {
   "cell_type": "markdown",
   "metadata": {},
   "source": [
    "The difference is smallest for rows 2, 3, 6 and 8."
   ]
  },
  {
   "cell_type": "markdown",
   "metadata": {},
   "source": [
    "## Question 2: A simple example"
   ]
  },
  {
   "cell_type": "markdown",
   "metadata": {},
   "source": [
    "Given is the optimization problem:\n",
    "\n",
    "\\begin{align}\n",
    "\\mathbf{maximize}&& x^2 + 1\\\\\n",
    "\\mathbf{subject\\, to}&& (x-2) (x-4) \\le 0\n",
    "\\end{align}"
   ]
  },
  {
   "cell_type": "markdown",
   "metadata": {},
   "source": [
    "(a) What is the optimal value of the optimization problem?"
   ]
  },
  {
   "cell_type": "code",
   "execution_count": 20,
   "metadata": {},
   "outputs": [],
   "source": [
    "x = cvx.Variable()"
   ]
  },
  {
   "cell_type": "code",
   "execution_count": 21,
   "metadata": {},
   "outputs": [],
   "source": [
    "obj = cvx.Minimize(x**2 + 1)"
   ]
  },
  {
   "cell_type": "code",
   "execution_count": 22,
   "metadata": {},
   "outputs": [],
   "source": [
    "constraints = [\n",
    "    x**2 - 6 * x + 8 <= 0,\n",
    "]"
   ]
  },
  {
   "cell_type": "code",
   "execution_count": 23,
   "metadata": {},
   "outputs": [
    {
     "name": "stdout",
     "output_type": "stream",
     "text": [
      "status: optimal\n",
      "optimal value: 4.999999987444469\n",
      "optimal x* 1.9999999968611173\n",
      "optimal dual variable for constraint ( (x-2) * (x-4) <= 0): 2.0000322081789013\n"
     ]
    }
   ],
   "source": [
    "# Form and solve problem.\n",
    "prob = cvx.Problem(obj, constraints)\n",
    "prob.solve()  # Returns the optimal value.\n",
    "print(\"status:\", prob.status)\n",
    "print(\"optimal value:\", prob.value)\n",
    "print(\"optimal x*\", x.value)\n",
    "print(\"optimal dual variable for constraint ( (x-2) * (x-4) <= 0):\", constraints[0].dual_value)"
   ]
  },
  {
   "cell_type": "code",
   "execution_count": null,
   "metadata": {},
   "outputs": [],
   "source": []
  },
  {
   "cell_type": "markdown",
   "metadata": {},
   "source": [
    "(b)(c) The Lagrangian is:\n",
    "\n",
    "\\begin{align}\n",
    "L(x, \\lambda) &=& x^2 + 1 + \\lambda (x^2 - 6x +8)\\\\\n",
    "&=& (1 + \\lambda) x^2 -6 \\lambda x + (1 + 8 \\lambda)\n",
    "\\end{align}\n",
    "\n",
    "The dual function is then:\n",
    "\n",
    "\\begin{align}\n",
    "g(\\lambda) &=& \\inf_{x \\in D} L(x, \\lambda) \\\\\n",
    "&=& \\inf_{x \\in D} (1 + \\lambda) x^2 -6 \\lambda x + (1 + 8 \\lambda)\n",
    "\\end{align}\n",
    "\n",
    "The Lagrangian has its minimum for:\n",
    "\\begin{align}\n",
    "x = \\frac{3 \\lambda}{1 + \\lambda}\n",
    "\\end{align}\n",
    "when $\\lambda \\gt -1$ and otherwise is unbounded below. Therefore:\n",
    "\n",
    "\n",
    "$\n",
    " g(\\lambda) =\\begin{cases}\n",
    "\\begin{align}\n",
    "               -9 \\lambda^2 / (1 + \\lambda) +1 + 8\\lambda && x \\gt -1\\\\\n",
    "               - \\infty && \\mathrm{otherwise}\n",
    "            \\end{align}\n",
    "            \\end{cases}\n",
    "$\n",
    "\n",
    "\n",
    "\n",
    "Plot optimal value, feasible set and the Lagrangian $L(x, \\lambda)$ for some positive values of $\\lambda$."
   ]
  },
  {
   "cell_type": "code",
   "execution_count": 24,
   "metadata": {},
   "outputs": [
    {
     "data": {
      "image/png": "[encoded data removed]",
      "text/plain": [
       "<Figure size 432x288 with 1 Axes>"
      ]
     },
     "metadata": {
      "needs_background": "light"
     },
     "output_type": "display_data"
    }
   ],
   "source": [
    "# Plot Lagrangian\n",
    "t = np.arange(100)/100.*4+1\n",
    "f = [i**2 + 1 for i in t]\n",
    "plt.plot(t, f, label=\"Objective\")\n",
    "\n",
    "# plot feasible set\n",
    "plt.plot([2, 2], [0, 50], color=\"black\")\n",
    "# plot feasible set\n",
    "plt.plot([4, 4], [0, 50], color=\"black\")\n",
    "# plot optimal value\n",
    "plt.plot([1, 5],[5, 5], color=\"black\")\n",
    "\n",
    "x_i = np.array([2.0, 2.5, 3.0, 3.5, 4.0])\n",
    "lambda_i = 2.0\n",
    "plt.plot(x_i, x_i**2 +1 + lambda_i* (x_i-2)*(x_i-4),'ro', label=f\"Lagrangian for lambda={lambda_i}\") \n",
    "\n",
    "plt.xlabel(\"t\");\n",
    "plt.ylabel(\"f\");\n",
    "plt.legend();"
   ]
  },
  {
   "cell_type": "markdown",
   "metadata": {},
   "source": [
    "The dual problem is:\n",
    "\n",
    "\\begin{align}\n",
    "\\mathbf{maximize}&& -9 \\lambda^2 / (1 + \\lambda) +1 + 8\\lambda\\\\\n",
    "\\mathbf{subject\\, to}&& \\lambda \\ge 0\n",
    "\\end{align}\n",
    "\n",
    "which is a convex otimization problem. The dual optimum occurs for $\\lambda^* = 2$ with optimum value of $p^* = 5$. This confirms that strong duality holds."
   ]
  },
  {
   "cell_type": "code",
   "execution_count": 25,
   "metadata": {},
   "outputs": [
    {
     "data": {
      "image/png": "[encoded data removed]",
      "text/plain": [
       "<Figure size 432x288 with 1 Axes>"
      ]
     },
     "metadata": {
      "needs_background": "light"
     },
     "output_type": "display_data"
    }
   ],
   "source": [
    "# plot dual function (inf L)\n",
    "for lambda_i in np.arange(100)/100*6-0.7:\n",
    "    plt.plot(lambda_i, -9*lambda_i**2/(lambda_i+1) + 8*lambda_i + 1,'bo')\n",
    "\n",
    "plt.plot([2,2], [-20, 5])\n",
    "plt.plot([-1, 5], [5,5])\n",
    "plt.xlabel(\"lambda\");\n",
    "plt.ylabel(\"Dual function g(lambda)\");"
   ]
  },
  {
   "cell_type": "markdown",
   "metadata": {},
   "source": [
    "(d) Sensitivity analysis\n",
    "\n",
    "The relaxed problem is given by:\n",
    "\n",
    "\\begin{align}\n",
    "\\mathbf{minimize}&& x^2 + 1\\\\\n",
    "\\mathbf{subject\\, to}&& (x-2) (x-4) \\le u\n",
    "\\end{align}\n",
    "\n",
    "as a function of $u$. The constraint is infeasible for $u \\ge < -1$. The feasible set is $[$3 - \\sqrt{1+u},3+\\sqrt{1+u}]$. For $u\\ge 8$ the problem becomes basically unconstrained because the global minimum of the objective falls into the feasible interval. If $u \\le 8$, the optimum $x^*$ is at the left limit of the feasible set (because the global minimum of the objective function is to the left of the feasible set. Together:\n",
    "\n",
    "$\n",
    " p^*(u) =\\begin{cases}\n",
    "\\begin{align}\n",
    "               \\infty && u \\lt -1\\\\\n",
    "               11 + u - 6 \\sqrt(1+u) && -1 \\le u \\le 8\\\\\n",
    "               1 && u \\ge 8\n",
    "            \\end{align}\n",
    "            \\end{cases}\n",
    "$\n"
   ]
  },
  {
   "cell_type": "markdown",
   "metadata": {},
   "source": [
    "## Question 4: Option Price Bounds "
   ]
  },
  {
   "cell_type": "markdown",
   "metadata": {},
   "source": [
    "The problem to be solved as given in the example 5.10 of the textbook mentioned in the exercise\n",
    "\n",
    "\\begin{align}\n",
    "\\mathbf{minimize}&& p_n\\\\\n",
    "\\mathbf{subject\\, to}&& V^T y = p \\\\\n",
    "&& y \\succcurlyeq 0\n",
    "\\end{align}\n",
    "\n",
    "with prices at the beginning of the investment period $p_j$, $j=1, \\dots, n$ and values at the end of the investment period of $v_j$, $j=1, \\dots, n$ for assets $j$. There are $m$ possible outcome scenarios. The constraint ensures that there will be no arbitrage and is basd on Farkas' Lemma.\n",
    "\n",
    "Side note to arbitrage: If there is an investment vector $x$ with $p^T x \\le 0$ ($x_j < 0$ denotes a short position for asset $j$) and in all scenarios the value at the end of the investment period is nonnegative $v^{(i)T}x \\ge 0$ then an arbitrage exists. This means there would be a guaranteed profit.\n",
    "\n",
    "The optimization problem above yields the minimap price $p_n$ for asset $n$ for which the no arbitrage assumption is valid. Maximizing instead of minimizing would yield the maximum price consistent with the no arbitrage assumption."
   ]
  },
  {
   "cell_type": "code",
   "execution_count": 26,
   "metadata": {},
   "outputs": [],
   "source": [
    "# Asset prices of first six assets, the seventh is the price to be optimized\n",
    "n_assets = 7  # Total number of assets is 7\n",
    "S0 = 1  # Start price\n",
    "\n",
    "p_collar = cvx.Variable()\n",
    "\n",
    "p = np.array([\n",
    "    1.0,   # risk free asset\n",
    "    S0,   # S0 of the underlying asset\n",
    "    0.06,  # given call option number 1\n",
    "    0.03,  # given call option number 2\n",
    "    0.02,  # given put option number 1\n",
    "    0.01,  # given put option number 2\n",
    "    p_collar,\n",
    "])"
   ]
  },
  {
   "cell_type": "code",
   "execution_count": 29,
   "metadata": {},
   "outputs": [],
   "source": [
    "# collar option payoff\n",
    "m = 200  # Number of possible scenarios\n",
    "S_min = 0.5  # Min end value for scenarios\n",
    "S_max = 2.0  # Max end value for scenarios\n",
    "S = np.linspace(S_min, S_max, m)  # Scenario values\n",
    "\n",
    "F=0.9  # Floor\n",
    "C=1.15  # Cap\n",
    "\n",
    "collar_option_payoff = np.array(\n",
    "    [\n",
    "        (np.array([\n",
    "            S-S0, np.repeat(F-S0, m)\n",
    "        ])).max(axis=0),\n",
    "        np.repeat(C, m) - S0]\n",
    ").min(axis=0)"
   ]
  },
  {
   "cell_type": "code",
   "execution_count": 30,
   "metadata": {},
   "outputs": [],
   "source": [
    "# Build complete payoff matrix\n",
    "r = 1.05\n",
    "V = np.zeros((m,n_assets))\n",
    "V[:,0] = np.repeat(r, m) # risk free asset\n",
    "V[:,1] = S  # underlying asset\n",
    "V[:,2] = (S - 1.1).clip(0)  # given call option number 1\n",
    "V[:,3] = (S - 1.2).clip(0)  # given call option number 2\n",
    "V[:,4] = (-S + 0.8).clip(0)  # given put option number 1\n",
    "V[:,5] = (-S + 0.7).clip(0)  # given put option number 2\n",
    "V[:,6] = collar_option_payoff"
   ]
  },
  {
   "cell_type": "code",
   "execution_count": 21,
   "metadata": {},
   "outputs": [],
   "source": [
    "# define additional optimization variable y\n",
    "y = cvx.Variable(m)"
   ]
  },
  {
   "cell_type": "code",
   "execution_count": 26,
   "metadata": {},
   "outputs": [],
   "source": [
    "# Define objective\n",
    "obj_min = cvx.Minimize(p_collar)\n",
    "obj_max = cvx.Maximize(p_collar)"
   ]
  },
  {
   "cell_type": "code",
   "execution_count": 27,
   "metadata": {},
   "outputs": [],
   "source": [
    "# Define constraints\n",
    "constraints = [\n",
    "    cvx.vstack(p) - cvx.vstack(V.T @ y) == cvx.vstack(np.repeat(0.0, n_assets)),\n",
    "    cvx.vstack(y) >= cvx.vstack(np.repeat(0.0, m))\n",
    "]"
   ]
  },
  {
   "cell_type": "code",
   "execution_count": 28,
   "metadata": {},
   "outputs": [
    {
     "name": "stdout",
     "output_type": "stream",
     "text": [
      "status: optimal optimal\n",
      "optimal value 0.032619047619008155 0.06495039682537881\n"
     ]
    }
   ],
   "source": [
    "# Form and solve problem\n",
    "prob_min = cvx.Problem(obj_min, constraints)\n",
    "prob_min.solve()# Returns the optimal value.\n",
    "prob_max = cvx.Problem(obj_max, constraints)\n",
    "prob_max.solve()# Returns the optimal value.\n",
    "print(\"status:\", prob_min.status, prob_max.status)\n",
    "print(\"optimal value\", prob_min.value, prob_max.value)"
   ]
  }
 ],
 "metadata": {
  "kernelspec": {
   "display_name": "Python 3",
   "language": "python",
   "name": "python3"
  },
  "language_info": {
   "codemirror_mode": {
    "name": "ipython",
    "version": 3
   },
   "file_extension": ".py",
   "mimetype": "text/x-python",
   "name": "python",
   "nbconvert_exporter": "python",
   "pygments_lexer": "ipython3",
   "version": "3.6.5"
  }
 },
 "nbformat": 4,
 "nbformat_minor": 2
}
