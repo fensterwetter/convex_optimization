{
 "cells": [
  {
   "cell_type": "code",
   "execution_count": 1,
   "metadata": {},
   "outputs": [],
   "source": [
    "import cvxpy as cvx\n",
    "import numpy as np\n",
    "from scipy.sparse import csr_matrix\n",
    "from scipy.stats import lognorm\n",
    "import functools\n",
    "from IPython.display import Image\n",
    "import pygraphviz"
   ]
  },
  {
   "cell_type": "markdown",
   "metadata": {},
   "source": [
    "# Question 1: Smoothed fit to given data "
   ]
  },
  {
   "cell_type": "markdown",
   "metadata": {},
   "source": [
    "The structure of the hessian is tridiagonal as each value is connected to the predecessor and the successor."
   ]
  },
  {
   "cell_type": "markdown",
   "metadata": {},
   "source": [
    "# Question 2: Maximum likelihood prediction of team ability"
   ]
  },
  {
   "cell_type": "markdown",
   "metadata": {},
   "source": [
    "$n$ teams with abiliy $a_j \\in [0, 1]$ ($j = 1 \\dots n$) competes in a tournament.\n",
    "\n",
    "The probability that team $j$ wins against team $k$ is:\n",
    "\n",
    "$\\mathbf{prob}(a_j−a_k+v>0)$,\n",
    "\n",
    "where $v ∼ \\mathcal{N}(0,\\sigma^2)$."
   ]
  },
  {
   "cell_type": "markdown",
   "metadata": {},
   "source": [
    "The output of $m$ games is given as:\n",
    "\n",
    "$(j^{(i)},k^{(i)},y^{(i)}),i=1, \\dots,m$\n",
    "\n",
    "$y^{(i)}=1$ means that team $j^{(i)}$ won, while $y^{(i)}=−1$ means that team $k^{(i)}$ won (no ties)."
   ]
  },
  {
   "cell_type": "markdown",
   "metadata": {},
   "source": [
    "**Task:**\n",
    "\n",
    "Formulate the problem of finding the maximum likelihood estimate of team abilities $\\hat{a} \\in \\mathcal{R}^n$ as convex optimization problem. The game incidence matrix $A^{m \\times n}$ an be used:\n",
    "\n",
    "$\n",
    "  A_{il}=\\begin{cases}\n",
    "\\begin{align}\n",
    "               y^{(i)} && l=j^{(i)}\\\\\n",
    "               -y^{(i)} && l=k^{(i)}\\\\\n",
    "               0 && \\mathrm{otherwise}\n",
    "            \\end{align}\n",
    "            \\end{cases}\n",
    "$"
   ]
  },
  {
   "cell_type": "markdown",
   "metadata": {},
   "source": [
    "The probability for team $j$ winning against team $k$ is:\n",
    "\n",
    "\\begin{align}\n",
    "\\mathbf{prob} (a_j - a_k + v > 0 ) &=& \\mathbf{prob} (v < a_j - a_k )\\\\\n",
    "& = & \\mathbf{norm\\_cdf}(1/\\sigma \\, (a_j - a_k))\n",
    "\\end{align}"
   ]
  },
  {
   "cell_type": "markdown",
   "metadata": {},
   "source": [
    "The probability for team $k$ winning against team $j$ is:\n",
    "\n",
    "\\begin{align}\n",
    "\\mathbf{prob} (a_k - a_j + v > 0 ) &=& \\mathbf{prob} (v < -(a_j - a_k) )\\\\\n",
    "& = & \\mathbf{norm\\_cdf}(-1/\\sigma \\, (a_j - a_k))\n",
    "\\end{align}"
   ]
  },
  {
   "cell_type": "markdown",
   "metadata": {},
   "source": [
    "More generally, the probability that in the $i$th game the outcome was $y^{(i)}$ is therefore:\n",
    "\n",
    "\\begin{align}\n",
    "p(y^{(i)}|a_j, a_k) = \\mathbf{norm\\_cdf}(1/\\sigma \\, (a_j - a_k))\n",
    "\\end{align}"
   ]
  },
  {
   "cell_type": "markdown",
   "metadata": {},
   "source": [
    "The total likelihood that all matches have the observed outcome is then:\n",
    "\n",
    "\\begin{align}\n",
    "p(y|a) = \\prod_{i=1}^n \\mathbf{norm\\_cdf}(y^{(i)}/\\sigma \\, (a_{j^{(i)}} - a_{k^{(i)}}))\n",
    "\\end{align}"
   ]
  },
  {
   "cell_type": "markdown",
   "metadata": {},
   "source": [
    "And the desired log-likelihood is given by:\n",
    "\n",
    "\\begin{align}\n",
    "l(a) = \\log p(y|a) = \\sum_{i=1}^n \\log \\mathbf{norm\\_cdf}(\\frac{1}{\\sigma} (\\mathrm{A}a)_i)\n",
    "\\end{align}"
   ]
  },
  {
   "cell_type": "markdown",
   "metadata": {},
   "source": [
    "This is a concave function so maximizing the log likelihood over $a$ is a convex optimization problem:\n",
    "\n",
    "\\begin{align}\n",
    "\\mathbf{maximize}&& l(a)\\\\\n",
    "\\mathbf{subject\\, to}&& 0 \\leq a \\leq 1\\,,\\, i=1, \\dots, n\n",
    "\\end{align}"
   ]
  },
  {
   "cell_type": "code",
   "execution_count": 2,
   "metadata": {},
   "outputs": [],
   "source": [
    "n = 10  # Number of teams\n",
    "m = 45  # Number of training matches\n",
    "m_test = 45  # number of test matches\n",
    "sigma = 0.25  # standard deviation of the underlying normal distribution (with zero mean)"
   ]
  },
  {
   "cell_type": "code",
   "execution_count": 3,
   "metadata": {},
   "outputs": [],
   "source": [
    "train = np.array(\n",
    "    [\n",
    "        [1, 2, 1],\n",
    "        [1, 3, 1],\n",
    "        [1, 4, 1],\n",
    "        [1, 5, 1],\n",
    "        [1, 6, 1],\n",
    "        [1, 7, 1],\n",
    "        [1, 8, 1],\n",
    "        [1, 9, 1],\n",
    "        [1, 10, 1],\n",
    "        [2, 3, -1],\n",
    "        [2, 4, -1],\n",
    "        [2, 5, -1],\n",
    "        [2, 6, -1],\n",
    "        [2, 7, -1],\n",
    "        [2, 8, -1],\n",
    "        [2, 9, -1],\n",
    "        [2, 10, -1],\n",
    "        [3, 4, 1],\n",
    "        [3, 5, -1],\n",
    "        [3, 6, -1],\n",
    "        [3, 7, 1],\n",
    "        [3, 8, 1],\n",
    "        [3, 9, 1],\n",
    "        [3, 10, 1],\n",
    "        [4, 5, -1],\n",
    "        [4, 6, -1],\n",
    "        [4, 7, 1],\n",
    "        [4, 8, 1],\n",
    "        [4, 9, -1],\n",
    "        [4, 10, -1],\n",
    "        [5, 6, 1],\n",
    "        [5, 7, 1],\n",
    "        [5, 8, 1],\n",
    "        [5, 9, -1],\n",
    "        [5, 10, 1],\n",
    "        [6, 7, 1],\n",
    "        [6, 8, 1],\n",
    "        [6, 9, -1],\n",
    "        [6, 10, -1],\n",
    "        [7, 8, 1],\n",
    "        [7, 9, 1],\n",
    "        [7, 10, -1],\n",
    "        [8, 9, -1],\n",
    "        [8, 10, -1],\n",
    "        [9, 10, 1],\n",
    "    ]\n",
    ")\n",
    "# subtract 1 as python starts indexing with 0 as opposed to Matlab which starts with 1\n",
    "train[:,0] -= 1\n",
    "train[:,1] -= 1"
   ]
  },
  {
   "cell_type": "code",
   "execution_count": 4,
   "metadata": {},
   "outputs": [],
   "source": [
    "test = np.array(\n",
    "    [\n",
    "        [1, 2, 1],\n",
    "        [1, 3, 1],\n",
    "        [1, 4, 1],\n",
    "        [1, 5, 1],\n",
    "        [1, 6, 1],\n",
    "        [1, 7, 1],\n",
    "        [1, 8, 1],\n",
    "        [1, 9, 1],\n",
    "        [1, 10, 1],\n",
    "        [2, 3, -1],\n",
    "        [2, 4, 1],\n",
    "        [2, 5, -1],\n",
    "        [2, 6, -1],\n",
    "        [2, 7, -1],\n",
    "        [2, 8, 1],\n",
    "        [2, 9, -1],\n",
    "        [2, 10, -1],\n",
    "        [3, 4, 1],\n",
    "        [3, 5, -1],\n",
    "        [3, 6, 1],\n",
    "        [3, 7, 1],\n",
    "        [3, 8, 1],\n",
    "        [3, 9, -1],\n",
    "        [3, 10, 1],\n",
    "        [4, 5, -1],\n",
    "        [4, 6, -1],\n",
    "        [4, 7, -1],\n",
    "        [4, 8, 1],\n",
    "        [4, 9, -1],\n",
    "        [4, 10, -1],\n",
    "        [5, 6, -1],\n",
    "        [5, 7, 1],\n",
    "        [5, 8, 1],\n",
    "        [5, 9, 1],\n",
    "        [5, 10, 1],\n",
    "        [6, 7, 1],\n",
    "        [6, 8, 1],\n",
    "        [6, 9, 1],\n",
    "        [6, 10, 1],\n",
    "        [7, 8, 1],\n",
    "        [7, 9, -1],\n",
    "        [7, 10, 1],\n",
    "        [8, 9, -1],\n",
    "        [8, 10, -1],\n",
    "        [9, 10, 1],\n",
    "    ]\n",
    ")\n",
    "# subtract 1 as python starts indexing with 0 as opposed to Matlab which starts with 1\n",
    "test[:,0] -= 1\n",
    "test[:,1] -= 1"
   ]
  },
  {
   "cell_type": "code",
   "execution_count": 5,
   "metadata": {},
   "outputs": [],
   "source": [
    "A = (\n",
    "    csr_matrix((train[:, 2], (np.arange(m), train[:, 0])), shape=(m,n))\n",
    "    + csr_matrix((-train[:, 2], (np.arange(m), train[:, 1])), shape=(m,n))\n",
    ")"
   ]
  },
  {
   "cell_type": "markdown",
   "metadata": {},
   "source": [
    "Unfortunately the mentioned cvx function $\\mathbf{log\\_normcdf}$ does not exist for cvxpy. However, the matlab implementation given here https://github.com/cvxr/CVX/blob/master/functions/%40cvx/log_normcdf.m can be ported to python:"
   ]
  },
  {
   "cell_type": "code",
   "execution_count": 6,
   "metadata": {},
   "outputs": [],
   "source": [
    "def log_normcdf(x):\n",
    "    a = np.diag(\n",
    "        np.sqrt(\n",
    "            [\n",
    "                0.018102332171520,\n",
    "                0.011338501342044,\n",
    "                0.072727608432177,\n",
    "                0.184816581789135,\n",
    "                0.189354610912339,\n",
    "                0.023660365352785,\n",
    "            ]\n",
    "        )\n",
    "    )\n",
    "    b = np.array([[3, 2.5, 2, 1, -1, -2]]).T\n",
    "    \n",
    "    nx = functools.reduce(lambda i, j: i * j, x.shape)\n",
    "    \n",
    "    y  = a @ ( b @ np.ones((1, nx)) - np.ones(b.shape) @ cvx.reshape( x, (1, nx) ) )\n",
    "    y = -cvx.sum((cvx.maximum(y, 0))**2, axis=0)\n",
    "\n",
    "    return cvx.reshape(y, x.shape)"
   ]
  },
  {
   "cell_type": "code",
   "execution_count": 7,
   "metadata": {},
   "outputs": [
    {
     "data": {
      "text/plain": [
       "-11.44871475843284"
      ]
     },
     "execution_count": 7,
     "metadata": {},
     "output_type": "execute_result"
    }
   ],
   "source": [
    "a_hat = cvx.Variable(n, nonneg=True)\n",
    "\n",
    "objective = cvx.Maximize(cvx.sum(log_normcdf(A @ a_hat / sigma)))\n",
    "\n",
    "constraints = [\n",
    "    a_hat <= 1.,\n",
    "]\n",
    "\n",
    "problem = cvx.Problem(objective, constraints)\n",
    "\n",
    "problem.solve()"
   ]
  },
  {
   "cell_type": "code",
   "execution_count": 8,
   "metadata": {},
   "outputs": [
    {
     "data": {
      "text/plain": [
       "[1.0,\n",
       " 0.0,\n",
       " 0.6828668359927551,\n",
       " 0.36964924413699435,\n",
       " 0.794624430145803,\n",
       " 0.577875954115459,\n",
       " 0.3794723150927706,\n",
       " 0.08950883318437884,\n",
       " 0.6736308886155367,\n",
       " 0.577875954115459]"
      ]
     },
     "execution_count": 8,
     "metadata": {},
     "output_type": "execute_result"
    }
   ],
   "source": [
    "list(a_hat.value)"
   ]
  },
  {
   "cell_type": "code",
   "execution_count": 9,
   "metadata": {},
   "outputs": [
    {
     "data": {
      "text/plain": [
       "array([ 1,  1,  1,  1,  1,  1,  1,  1,  1, -1, -1, -1, -1, -1, -1, -1, -1,\n",
       "        1, -1,  1,  1,  1,  1,  1, -1, -1, -1,  1, -1, -1,  1,  1,  1,  1,\n",
       "        1,  1,  1, -1,  1,  1, -1, -1, -1, -1,  1])"
      ]
     },
     "execution_count": 9,
     "metadata": {},
     "output_type": "execute_result"
    }
   ],
   "source": [
    "# Compare with test data\n",
    "# A tie in a is evaluated as a win for the j against k\n",
    "predictions = ((a_hat.value[test[:,0]] - a_hat.value[test[:,1]]) >= 0) * 2 -1\n",
    "predictions"
   ]
  },
  {
   "cell_type": "code",
   "execution_count": 10,
   "metadata": {},
   "outputs": [
    {
     "name": "stdout",
     "output_type": "stream",
     "text": [
      "Fraction of orrect predictions on the test data: 0.8666666666666667\n"
     ]
    }
   ],
   "source": [
    "print(f\"Fraction of orrect predictions on the test data: {(predictions == test[:, 2]).mean()}\")"
   ]
  },
  {
   "cell_type": "code",
   "execution_count": 11,
   "metadata": {},
   "outputs": [
    {
     "name": "stdout",
     "output_type": "stream",
     "text": [
      "Fraction of correct predictions when repeating the results from the training data: 0.7555555555555555\n"
     ]
    }
   ],
   "source": [
    "print(f\"Fraction of correct predictions when repeating the results from the training data: {(train[:, 2] == test[:, 2]).mean()}\")"
   ]
  },
  {
   "cell_type": "markdown",
   "metadata": {},
   "source": [
    "# Question 3:  Allocation of interdiction effort "
   ]
  },
  {
   "cell_type": "markdown",
   "metadata": {},
   "source": [
    "A smuggler moves along a directed, acyclic graph in a way to maximize the combined detection failure $\\prod_{j \\in P} p_j$, where $P \\subset {1, \\dots,m}$ is (the set of edges on) the smuggler's path.\n",
    "\n",
    "Detection failure can be minimized by adding resources to individual edges. The maximum combined detection failure $P^{\\mathrm{max}}$ should be minimized in this exercise."
   ]
  },
  {
   "cell_type": "markdown",
   "metadata": {},
   "source": [
    "* $x_j \\in R^+$: effort (say, yearly budget) allocated to edge $j$. Variable to be optimized to minimize $P^\\mathrm{max}$\n",
    "* $p_j = e^{−a_j x_j}$: detection failure probability at edge $j$ associated to effort $x_j$ invested into this edge\n",
    "* $a_j \\in R^{++}$ given parameters\n",
    "* $x \\preccurlyeq x^{\\mathrm{max}}$ maximum effort constraint per edge\n",
    "* $\\mathbf{1}^T x \\leq B$ total budget constraint\n",
    "* $n$ number of nodes\n",
    "* $m$ number of edges"
   ]
  },
  {
   "cell_type": "markdown",
   "metadata": {},
   "source": [
    "The problem formulation should not enumerate all possible paths (in the objective or constraints).\n",
    "\n",
    "_Hint_. For each node $i$, let $P_i$ denote the maximum of $\\prod_{k \\in P} p_k$ over all paths $P$ from the source node 1 to node $i$ (so $P^\\mathrm{max}=P_n$)."
   ]
  },
  {
   "cell_type": "markdown",
   "metadata": {},
   "source": [
    "Given are $a$, $x_\\mathrm{max}$, $B$, and the graph incidence matrix $A \\in \\mathcal{R}^{n \\times m}$, where\n",
    "\n",
    "$\n",
    "A_{ij} =\n",
    "\\begin{cases}\n",
    "\\begin{align}\n",
    " −1 && \\mathrm{if\\, edge}\\, j\\, \\mathrm{leaves\\, node}\\, i\\\\ \n",
    " +1 && \\mathrm{if\\, edge}\\, j\\, \\mathrm{enters\\, node}\\, i\\\\\n",
    " 0 && \\mathrm{otherwise}.\n",
    "\\end{align}\n",
    "\\end{cases}\n",
    "$"
   ]
  },
  {
   "cell_type": "markdown",
   "metadata": {},
   "source": [
    "Give $P^\\mathrm{max⋆}$, the optimal value of $P^\\mathrm{max}$, and compare it to the value of $P^\\mathrm{max}$ obtained with uniform allocation of resources, i.e., with $x=(B/m)\\mathbf{1}$.\n",
    "\n",
    "_Hint_. Given a vector $z \\in \\mathcal{R^{n}}$, $A^T z$ is the vector of edge differences: $(A^T z)_j=z_k−z_l$ if edge $j$ goes from node $l$ to node $k$."
   ]
  },
  {
   "cell_type": "markdown",
   "metadata": {},
   "source": [
    "According to the first hint, the probability $P_i$ can be written in terms of its connected predecessors' $P_k$ and the probability for detection failure on the edge connecting node $k$ and $i$: $p_{ik}$.\n",
    "\n",
    "\\begin{align}\n",
    "P_i = \\max_{\\mathrm{k\\,is\\, predecessor}} \\left( p_{ik} P_k \\right)\n",
    "\\end{align}\n",
    "\n",
    "\n",
    "Furthermore, we know that $P_1 = 1$ because the first node is the starting point and detection can only happen on edges, and $P_n = P_\\mathrm{max}$."
   ]
  },
  {
   "cell_type": "markdown",
   "metadata": {},
   "source": [
    "Using the logarithms of the detection failure probability:\n",
    "\n",
    "\\begin{align}\n",
    "\\log p_j = \\log \\exp{-a_j x_j} = -a_j x_j\n",
    "\\end{align}\n",
    "\n",
    "and chosing\n",
    "\n",
    "\\begin{align}\n",
    "z = \\log P_i\n",
    "\\end{align}\n",
    "\n",
    "as an additional variable on top of $x$ the problem can be written as:\n",
    "\n",
    "\\begin{align}\n",
    "\\mathbf{minimize} && z_n\\\\\n",
    "\\mathbf{subject\\,to} && z_i=\\max_{\\mathrm{k\\,is\\, predecessor}} \\left( -a_{ik} x_{ij} + z_k \\right)\\\\\n",
    "&& z_1 = 0\\\\\n",
    "&& x \\preccurlyeq x^\\mathrm{max}\\\\\n",
    "&& x \\succcurlyeq 0\\\\\n",
    "&& \\mathbf{1}^T x \\leq B\n",
    "\\end{align}"
   ]
  },
  {
   "cell_type": "markdown",
   "metadata": {},
   "source": [
    "The first constraint results from working with the logarithms $\\log P_i$:\n",
    "\n",
    "\\begin{align}\n",
    "\\log P_i &=& \\log \\left( \\max_{\\mathrm{k\\,is\\, predecessor}} \\left( p_{ik} P_k \\right)  \\right) \\\\\n",
    "& = & \\max_{\\mathrm{k\\,is\\, predecessor}} \\log \\left( p_{ik} P_k \\right)\\\\\n",
    "& = & \\max_{\\mathrm{k\\,is\\, predecessor}} \\left( -a_{ik} x_{ij} z_k \\right)\n",
    "\\end{align}\n",
    "\n",
    "where $a_{ik}$ is the parameter for the edge from node $k$ to node $i$."
   ]
  },
  {
   "cell_type": "markdown",
   "metadata": {},
   "source": [
    "The second constraint simply follows from:\n",
    "\n",
    "\\begin{align}\n",
    "&&P_1 = 1\\\\\n",
    "&\\Leftrightarrow& z_1 = \\log\\left(P_1\\right) = \\log \\left(1 \\right) = 0\n",
    "\\end{align}"
   ]
  },
  {
   "cell_type": "markdown",
   "metadata": {},
   "source": [
    "Because objective and constraints are all nondecreasing, the first constraint in the problem statement can be relaxed to obtain the linear, convex optimization Problem:\n",
    "\n",
    "\\begin{align}\n",
    "\\mathbf{minimize} && z_n\\\\\n",
    "\\mathbf{subject\\,to} && z_i \\geq \\max_{\\mathrm{k\\,is\\, predecessor}} \\left( -a_{ik} x_{ij} + z_k \\right)\\\\\n",
    "&& z_1 = 0\\\\\n",
    "&& x \\preccurlyeq x^\\mathrm{max}\\\\\n",
    "&& x \\succcurlyeq 0\\\\\n",
    "&& \\mathbf{1}^T x \\leq B\n",
    "\\end{align}"
   ]
  },
  {
   "cell_type": "markdown",
   "metadata": {},
   "source": [
    "And using the incidence matrix $A$ defined above, the final formulation is:\n",
    "\n",
    "\\begin{align}\n",
    "\\mathbf{minimize} && z_n\\\\\n",
    "\\mathbf{subject\\,to} && A^T z \\succcurlyeq - \\mathbf{diag}\\left(a\\right) x\\\\\n",
    "&& z_1 = 0\\\\\n",
    "&& x \\preccurlyeq x^\\mathrm{max}\\\\\n",
    "&& x \\succcurlyeq 0\\\\\n",
    "&& \\mathbf{1}^T x \\leq B\n",
    "\\end{align}"
   ]
  },
  {
   "cell_type": "code",
   "execution_count": 12,
   "metadata": {},
   "outputs": [],
   "source": [
    "n = 10  # number of nodes\n",
    "m = 20  # number of edges\n",
    "edges = np.array(\n",
    "    [\n",
    "        [1, 1, 1, 2, 2, 2, 3, 3, 4, 4, 5, 5, 6, 6, 7, 7, 8,  7,  8,  9],\n",
    "        [2, 3, 4, 6, 3, 4, 5, 6, 6, 7, 8, 7, 7, 8, 8, 9, 9, 10, 10, 10],\n",
    "    ]\n",
    ").T\n",
    "edges -=1\n",
    "\n",
    "A = np.zeros((n, m))\n",
    "\n",
    "for j in np.arange(edges.shape[0]):\n",
    "    A[edges[j, 0], j] = -1\n",
    "    A[edges[j, 1], j] = 1\n",
    "\n",
    "# a = 2 * rand(m, 1)\n",
    "# use random numbers computed in Matlab to obtain same values as the original problem\n",
    "a = np.array(\n",
    "    [\n",
    "        1.90025857029435,\n",
    "        0.462277027148576,\n",
    "        1.21368516708357,\n",
    "        0.971964937418600,\n",
    "        1.78259793229780,\n",
    "        1.52419366605479,\n",
    "        0.912935330336683,\n",
    "        0.0370072864964488,\n",
    "        1.64281432859051,\n",
    "        0.889406728706388,\n",
    "        1.23086469620019,\n",
    "        1.58387407485407,\n",
    "        1.84362594148961,\n",
    "        1.47641449162133,\n",
    "        0.352532288989236,\n",
    "        0.811412426124191,\n",
    "        1.87093939821521,\n",
    "        1.83380887982682,\n",
    "        0.820540413981891,\n",
    "        1.78729906182707,\n",
    "    ]\n",
    ")\n",
    "# x_max = 1 + rand(m, 1)\n",
    "x_max = np.array(\n",
    "    [\n",
    "        1.05789130478427,\n",
    "        1.35286813221700,\n",
    "        1.81316649730376,\n",
    "        1.00986130066092,\n",
    "        1.13889088195695,\n",
    "        1.20276521856027,\n",
    "        1.19872174266149,\n",
    "        1.60379247919382,\n",
    "        1.27218792496996,\n",
    "        1.19881426776106,\n",
    "        1.01527392702904,\n",
    "        1.74678567656443,\n",
    "        1.44509643228795,\n",
    "        1.93181457846166,\n",
    "        1.46599434167542,\n",
    "        1.41864946772751,\n",
    "        1.84622141782432,\n",
    "        1.52515249630517,\n",
    "        1.20264735765039,\n",
    "        1.67213746847429,\n",
    "    ]\n",
    ")\n",
    "B = m / 2"
   ]
  },
  {
   "cell_type": "code",
   "execution_count": 13,
   "metadata": {},
   "outputs": [],
   "source": [
    "G = pygraphviz.AGraph(directed=True, strict=False, overlap=False, splines='true')\n",
    "G.add_nodes_from(range(1,11))\n",
    "G.add_edges_from([(i, j) for i, j in zip(edges[:, 0] + 1, edges[:, 1] + 1)])\n",
    "G.layout()\n",
    "G.draw('graph.png')"
   ]
  },
  {
   "cell_type": "code",
   "execution_count": 14,
   "metadata": {},
   "outputs": [
    {
     "data": {
      "image/png": "[encoded data removed]",
      "text/plain": [
       "<IPython.core.display.Image object>"
      ]
     },
     "execution_count": 14,
     "metadata": {},
     "output_type": "execute_result"
    }
   ],
   "source": [
    "Image(\"graph.png\")"
   ]
  },
  {
   "cell_type": "code",
   "execution_count": 15,
   "metadata": {},
   "outputs": [
    {
     "name": "stdout",
     "output_type": "stream",
     "text": [
      "The best probability P^max is 0.043284208441142114 \n"
     ]
    }
   ],
   "source": [
    "# z = log P\n",
    "z = cvx.Variable(n)\n",
    "x = cvx.Variable(m)\n",
    "objective = cvx.Minimize(z[n-1])\n",
    "constraints = [\n",
    "    A.T @ z >= -np.diag(a) @ x,\n",
    "    x >= 0,\n",
    "    x <= x_max,\n",
    "    z[0] == 0,\n",
    "    cvx.sum(x) <= B,\n",
    "]\n",
    "problem = cvx.Problem(objective, constraints)\n",
    "log_p_max_star = problem.solve()\n",
    "\n",
    "print(f\"The best probability P^max is {np.exp(log_p_max_star)} \")"
   ]
  },
  {
   "cell_type": "code",
   "execution_count": 16,
   "metadata": {},
   "outputs": [
    {
     "name": "stdout",
     "output_type": "stream",
     "text": [
      "The best probability P^max is 0.2470610986991354 \n"
     ]
    }
   ],
   "source": [
    "# Uniform distribution\n",
    "# z = log P\n",
    "z = cvx.Variable(n)\n",
    "objective = cvx.Minimize(z[n-1])\n",
    "constraints = [\n",
    "    A.T @ z >= -np.diag(a) @ x,\n",
    "    x == B/m,\n",
    "    z[0] == 0,\n",
    "]\n",
    "problem = cvx.Problem(objective, constraints)\n",
    "log_p_max_star = problem.solve()\n",
    "\n",
    "print(f\"The best probability P^max is {np.exp(log_p_max_star)} \")"
   ]
  },
  {
   "cell_type": "code",
   "execution_count": null,
   "metadata": {},
   "outputs": [],
   "source": []
  }
 ],
 "metadata": {
  "celltoolbar": "Raw Cell Format",
  "kernelspec": {
   "display_name": "Python 3",
   "language": "python",
   "name": "python3"
  },
  "language_info": {
   "codemirror_mode": {
    "name": "ipython",
    "version": 3
   },
   "file_extension": ".py",
   "mimetype": "text/x-python",
   "name": "python",
   "nbconvert_exporter": "python",
   "pygments_lexer": "ipython3",
   "version": "3.6.5"
  }
 },
 "nbformat": 4,
 "nbformat_minor": 2
}
